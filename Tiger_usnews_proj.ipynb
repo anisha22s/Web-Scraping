{
  "nbformat": 4,
  "nbformat_minor": 0,
  "metadata": {
    "colab": {
      "provenance": []
    },
    "kernelspec": {
      "name": "python3",
      "display_name": "Python 3"
    },
    "language_info": {
      "name": "python"
    }
  },
  "cells": [
    {
      "cell_type": "code",
      "source": [],
      "metadata": {
        "id": "HMtbZuy4Dc89"
      },
      "execution_count": null,
      "outputs": []
    },
    {
      "cell_type": "code",
      "execution_count": null,
      "metadata": {
        "id": "uqh4an_0g-8h",
        "colab": {
          "base_uri": "https://localhost:8080/"
        },
        "outputId": "43ae2187-27db-492e-e60d-32444cddb514"
      },
      "outputs": [
        {
          "output_type": "stream",
          "name": "stdout",
          "text": [
            "List Price: $1,399\r\n",
            "          and 99 cents\r\n",
            "        \n",
            "Current Price: $1,029\r\n",
            "          and 99 cents\r\n",
            "        \n",
            "$1,399 and99cents\n",
            "$1,029 and99cents\n",
            "List Price: 1399.99\n",
            "Current Price: 1029.99\n"
          ]
        }
      ],
      "source": [
        "from bs4 import BeautifulSoup\n",
        "import requests\n",
        "\n",
        "# 1 use your browser's development tools to find a unique way to access its list price and its current price. \n",
        "\n",
        "url= \"https://www.tigerdirect.com/applications/SearchTools/item-details.asp\"\n",
        "\n",
        "headers = {\n",
        "    'User-Agent': 'Mozilla/5.0 (Windows NT 10.0; rv:91.0) Gecko/20100101 Firefox/91.0',\n",
        "    'HTTP_CONNECTION':\"keep-alive\",\n",
        "    'HTTP_ACCEPT':'*/*',\n",
        "    'HTTP_ACCEPT_ENCODING':'gzip, deflate',\n",
        "    'HTTP_HOST':'MyVeryOwnHost'}\n",
        "\n",
        "\n",
        "r = requests.get(url, headers = headers, params = {\"EdpNo\": \"1501390\"})\n",
        "soup = BeautifulSoup(r.text, 'lxml')\n",
        "\n",
        "list_price = soup.select(\"div.pdp-price span.sr-only\")[0]\n",
        "current_price = soup.select(\"span.sale-price span.sr-only\")[0]\n",
        "             \n",
        "                \n",
        "print(\"List Price:\", list_price.text)\n",
        "print(\"Current Price:\", current_price.text)\n",
        "\n",
        "# store the prices to strings.\n",
        "\n",
        "list_price = list_price.text\n",
        "current_price = current_price.text\n",
        "\n",
        "def remove(string):\n",
        "    return string.replace(\" \", \"\")\n",
        "\n",
        "list_price = (remove(list_price))\n",
        "current_price =(remove(current_price))\n",
        "\n",
        "\n",
        "list_price= (list_price.splitlines())\n",
        "current_price= (current_price.splitlines())\n",
        "\n",
        "print(' '.join(list_price))\n",
        "print(' '.join(current_price))\n",
        "\n",
        "string_list_price= ' '.join(list_price)\n",
        "\n",
        "string_Current_price= ' '.join(current_price)\n",
        "\n",
        "\n",
        "#use regex functionality to convert the prices to \"1234.56\"\n",
        "import re\n",
        "ans = re.sub('and', '.', string_Current_price)\n",
        "ans2 = re.sub('and', '.', string_list_price)\n",
        "\n",
        "ListPrice =  re.sub('[$, [a-z]', '', ans2)\n",
        "CurrentPrice =  re.sub('[$, [a-z]', '', ans)\n",
        "print(\"List Price:\", ListPrice)\n",
        "print(\"Current Price:\",CurrentPrice)\n",
        "\n"
      ]
    },
    {
      "cell_type": "code",
      "source": [
        "from bs4 import BeautifulSoup\n",
        "import requests\n",
        "\n",
        "headers = {\n",
        "    'User-Agent': 'Mozilla/5.0 (Windows NT 10.0; rv:91.0) Gecko/20100101 Firefox/91.0',\n",
        "    'HTTP_CONNECTION':\"keep-alive\",\n",
        "    'HTTP_ACCEPT':'*/*',\n",
        "    'HTTP_ACCEPT_ENCODING':'gzip, deflate',\n",
        "    'HTTP_HOST':'MyVeryOwnHost'}\n",
        "\n",
        "url2= \"https://www.usnews.com/\"\n",
        "\n",
        "# \"finds\" its current \"Top Stories\" \n",
        "\n",
        "r2 = requests.get(url2, headers = headers)\n",
        "soup = BeautifulSoup(r2.text, 'lxml')\n",
        "\n",
        "TS = soup.find_all('p', text = \"Top Stories\")[0] \n",
        "\n",
        "# len(TS)\n",
        "ns = TS.find_next_sibling('div')\n",
        "\n",
        "h3 = ns.select(\"h3\")\n",
        "\n",
        "\n",
        "for h in h3:\n",
        "    side = h.find_next_sibling('div')\n",
        "    \n",
        "    print(\"heading-> \", h.text)\n",
        "\n",
        "    print(\"summury-> \", side.text)\n",
        "\n",
        "p = ns.select('p')\n",
        "for h in p:\n",
        "    print(\"subheadings->\", h.text)\n",
        "\n",
        "\n",
        "# read + print the URL of the _second_ current top story to the screen (terminal)\n",
        "second_story = h3[1]\n",
        "href_link = second_story.select('a')[0].get(\"href\")\n",
        "print(href_link)\n",
        "\n",
        "#read + print the header as well as the first 3 sentences of the main body to the screen\n",
        "\n",
        "r2 = requests.get(href_link, headers = headers)\n",
        "soup2 = BeautifulSoup(r2.text, 'lxml')\n",
        "\n",
        "head = soup2.select(\"h1\")[0]\n",
        "\n",
        "print(\"Header:\", head.text)\n",
        "\n",
        "Body = soup2.select(\"div.Raw-slyvem-0 > p\")[0:4]\n",
        "for line in Body:\n",
        "    print(line.text)\n",
        "\n"
      ],
      "metadata": {
        "id": "DpfwoEwpIimP",
        "colab": {
          "base_uri": "https://localhost:8080/"
        },
        "outputId": "0d2ef439-afd3-4621-f991-719d84e7346a"
      },
      "execution_count": 1,
      "outputs": [
        {
          "output_type": "stream",
          "name": "stdout",
          "text": [
            "heading->  McCarthy, Biden to Talk Amid Debt Threat\n",
            "summury->  A precarious partisan battle is threatening the first-ever default on the national debt.Kaia Hubbard\n",
            "heading->  Existing Homes Fall 1.5% in December\n",
            "summury->  The performance was better than expected and prices inched up a little from a year ago.Tim Smart\n",
            "subheadings-> U.S. Hits Debt Limit as Parties Squabble\n",
            "subheadings-> Biden: ‘No Regrets’ on Disclosure Delay\n",
            "subheadings-> Why Aren’t Americans Getting Boosted?\n",
            "subheadings-> China Woes: Economy, Population, COVID\n",
            "subheadings-> Key Differences in the Trump, Biden Docs\n",
            "https://www.usnews.com/news/economy/articles/2023-01-20/existing-homes-fall-1-5-in-december-marking-11th-month-of-declines\n",
            "Header: Existing Homes Fall 1.5% in December, Marking 11th Month of Declines\n",
            "Sales of existing homes slid 1.5% in December, somewhat better than expected but the 11th straight month of decline, the National Association of Realtors said on Friday.\n",
            "\n",
            "The number was better than estimates of a 3.4% drop and brings the annual rate of home sales just a hair above 4 million. Sales are now down 34% from year-ago levels.\n",
            "“December was another difficult month for buyers, who continue to face limited inventory and high mortgage rates,” said NAR Chief Economist Lawrence Yun. “However, expect sales to pick up again soon since mortgage rates have markedly declined after peaking late last year.”\n"
          ]
        }
      ]
    },
    {
      "cell_type": "code",
      "source": [],
      "metadata": {
        "id": "c6PIWpNUa0aP"
      },
      "execution_count": null,
      "outputs": []
    },
    {
      "cell_type": "markdown",
      "source": [],
      "metadata": {
        "id": "g901xToYuS-x"
      }
    }
  ]
}